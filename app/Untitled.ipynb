{
 "cells": [
  {
   "cell_type": "code",
   "execution_count": 3,
   "metadata": {},
   "outputs": [],
   "source": [
    "from fastai.conv_learner import *\n",
    "\n",
    "arch=resnext101_64\n",
    "sz=299\n",
    "PATH = 'data/dogid'\n",
    "label_csv = f'{PATH}/labels.csv'\n",
    "n = len(list(open(label_csv)))-1\n",
    "val_idxs = get_cv_idxs(n)"
   ]
  },
  {
   "cell_type": "code",
   "execution_count": 4,
   "metadata": {},
   "outputs": [],
   "source": [
    "tfms = tfms_from_model(arch, sz, aug_tfms=transforms_side_on, max_zoom=1.1)\n",
    "data = ImageClassifierData.from_csv(PATH, 'train' , label_csv, test_name='test', val_idxs=val_idxs, tfms=tfms, suffix='.jpg')\n",
    "trn_tfms, val_tfms = tfms\n",
    "learn = ConvLearner.pretrained(arch, data, precompute=False)\n",
    "learn.load('my_pup')"
   ]
  },
  {
   "cell_type": "code",
   "execution_count": 5,
   "metadata": {},
   "outputs": [],
   "source": [
    "\n",
    "def predictMyPup(fn):\n",
    "    im = val_tfms(open_image(fn)) #from dataset.py\n",
    "    log_preds_single = learn.predict_array(im[None])\n",
    "    breedID = np.argmax(log_preds_single)\n",
    "    class_probs = np.exp(log_preds_single) # If you want the probabilities of the classes\n",
    "#    accuracy = class_probs[0].argsort()[0:1]\n",
    "    breedName = data.classes[breedID]\n",
    "    return breedName\n",
    "\n",
    "\n",
    "# In[5]:\n",
    "\n",
    "\n",
    "def topThree(fn):\n",
    "    im = val_tfms(open_image(fn))\n",
    "    log_preds_single = learn.predict_array(im[None])\n",
    "    arr = np.exp(log_preds_single)\n",
    "    top3 = arr[0].argsort()[-3:][::-1]\n",
    "    top_score = data.classes[top3[0]] +'\\t'+ '%.2f'%(arr[0][top3[0]]*100)\n",
    "    second_score = data.classes[top3[1]] +'\\t'+ '%.2f'%(arr[0][top3[1]]*100)\n",
    "    third_score = data.classes[top3[2]] +'\\t'+ '%.2f'%(arr[0][top3[2]]*100)\n",
    "    scores = [top_score, second_score, third_score]\n",
    "    return scores\n",
    "\n"
   ]
  },
  {
   "cell_type": "code",
   "execution_count": 9,
   "metadata": {},
   "outputs": [
    {
     "data": {
      "text/plain": [
       "['pug\\t98.16', 'brabancon_griffon\\t1.20', 'french_bulldog\\t0.30']"
      ]
     },
     "execution_count": 9,
     "metadata": {},
     "output_type": "execute_result"
    }
   ],
   "source": [
    "topThree(\"img/uploads/mdb/IMG_3604.JPG\")"
   ]
  },
  {
   "cell_type": "code",
   "execution_count": null,
   "metadata": {},
   "outputs": [],
   "source": []
  }
 ],
 "metadata": {
  "kernelspec": {
   "display_name": "Python 3",
   "language": "python",
   "name": "python3"
  },
  "language_info": {
   "codemirror_mode": {
    "name": "ipython",
    "version": 3
   },
   "file_extension": ".py",
   "mimetype": "text/x-python",
   "name": "python",
   "nbconvert_exporter": "python",
   "pygments_lexer": "ipython3",
   "version": "3.6.7"
  },
  "toc": {
   "base_numbering": 1,
   "nav_menu": {},
   "number_sections": true,
   "sideBar": true,
   "skip_h1_title": false,
   "title_cell": "Table of Contents",
   "title_sidebar": "Contents",
   "toc_cell": false,
   "toc_position": {},
   "toc_section_display": true,
   "toc_window_display": false
  }
 },
 "nbformat": 4,
 "nbformat_minor": 2
}
